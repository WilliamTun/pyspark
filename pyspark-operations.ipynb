{
 "cells": [
  {
   "cell_type": "code",
   "execution_count": 1,
   "metadata": {},
   "outputs": [],
   "source": [
    "from pyspark.sql import SparkSession"
   ]
  },
  {
   "cell_type": "code",
   "execution_count": 2,
   "metadata": {},
   "outputs": [],
   "source": [
    "filepath = '/Users/williamtun/Documents/Code/DataEngineer/pyspark/iris.csv'"
   ]
  },
  {
   "cell_type": "code",
   "execution_count": 4,
   "metadata": {},
   "outputs": [],
   "source": [
    "spark = SparkSession \\\n",
    "    .builder \\\n",
    "    .appName(\"Python Spark create RDD example\") \\\n",
    "    .config(\"spark.some.config.option\", \"some-value\") \\\n",
    "    .getOrCreate()"
   ]
  },
  {
   "cell_type": "markdown",
   "metadata": {},
   "source": [
    "# Create DF1"
   ]
  },
  {
   "cell_type": "code",
   "execution_count": 5,
   "metadata": {},
   "outputs": [],
   "source": [
    "df = spark.read.format('com.databricks.spark.csv').\\\n",
    "                               options(header='true', \\\n",
    "                               inferschema='true').\\\n",
    "                load(filepath,header=True)"
   ]
  },
  {
   "cell_type": "code",
   "execution_count": 6,
   "metadata": {},
   "outputs": [
    {
     "name": "stdout",
     "output_type": "stream",
     "text": [
      "+------------+-----------+------------+-----------+-------+\n",
      "|sepal.length|sepal.width|petal.length|petal.width|variety|\n",
      "+------------+-----------+------------+-----------+-------+\n",
      "|         5.1|        3.5|         1.4|        0.2| Setosa|\n",
      "|         4.9|        3.0|         1.4|        0.2| Setosa|\n",
      "|         4.7|        3.2|         1.3|        0.2| Setosa|\n",
      "|         4.6|        3.1|         1.5|        0.2| Setosa|\n",
      "|         5.0|        3.6|         1.4|        0.2| Setosa|\n",
      "+------------+-----------+------------+-----------+-------+\n",
      "only showing top 5 rows\n",
      "\n"
     ]
    }
   ],
   "source": [
    "df.show(5)"
   ]
  },
  {
   "cell_type": "markdown",
   "metadata": {},
   "source": [
    "# Create DF2"
   ]
  },
  {
   "cell_type": "code",
   "execution_count": 89,
   "metadata": {},
   "outputs": [],
   "source": [
    "df2 = spark.sparkContext.parallelize([(None, 3.2, 1.3, 0.2, 'Setosa', \"oops\"),\n",
    "             (4.8, 3.2, None, 0.2, 'Setosa', None),\n",
    "             (5.3, None, 1.3, None, 'Versicolor', \"oops\")]).toDF(['sepal.length', \n",
    "                                        'sepal.width', \n",
    "                                        'petal.length',\n",
    "                                        'petal.width',\n",
    "                                        'variety', \n",
    "                                         'disposable_col'])"
   ]
  },
  {
   "cell_type": "code",
   "execution_count": 71,
   "metadata": {},
   "outputs": [
    {
     "name": "stdout",
     "output_type": "stream",
     "text": [
      "+------------+-----------+------------+-----------+----------+--------------+\n",
      "|sepal.length|sepal.width|petal.length|petal.width|   variety|disposable_col|\n",
      "+------------+-----------+------------+-----------+----------+--------------+\n",
      "|        null|        3.2|         1.3|        0.2|    Setosa|          oops|\n",
      "|         4.8|        3.2|        null|        0.2|    Setosa|          null|\n",
      "|         5.3|       null|         1.3|       null|Versicolor|          oops|\n",
      "+------------+-----------+------------+-----------+----------+--------------+\n",
      "\n"
     ]
    }
   ],
   "source": [
    "df2.show(3)"
   ]
  },
  {
   "cell_type": "markdown",
   "metadata": {},
   "source": [
    "# Explore"
   ]
  },
  {
   "cell_type": "code",
   "execution_count": 28,
   "metadata": {},
   "outputs": [
    {
     "data": {
      "text/plain": [
       "['sepal.length',\n",
       " 'sepal.width',\n",
       " 'petal.length',\n",
       " 'petal.width',\n",
       " 'variety',\n",
       " 'disposable_col']"
      ]
     },
     "execution_count": 28,
     "metadata": {},
     "output_type": "execute_result"
    }
   ],
   "source": [
    "df2.columns"
   ]
  },
  {
   "cell_type": "code",
   "execution_count": 29,
   "metadata": {},
   "outputs": [
    {
     "data": {
      "text/plain": [
       "[('sepal.length', 'double'),\n",
       " ('sepal.width', 'double'),\n",
       " ('petal.length', 'double'),\n",
       " ('petal.width', 'double'),\n",
       " ('variety', 'string'),\n",
       " ('disposable_col', 'string')]"
      ]
     },
     "execution_count": 29,
     "metadata": {},
     "output_type": "execute_result"
    }
   ],
   "source": [
    "df2.dtypes"
   ]
  },
  {
   "cell_type": "code",
   "execution_count": 30,
   "metadata": {},
   "outputs": [],
   "source": [
    "df2 = df2.fillna(-3)"
   ]
  },
  {
   "cell_type": "code",
   "execution_count": 31,
   "metadata": {},
   "outputs": [
    {
     "name": "stdout",
     "output_type": "stream",
     "text": [
      "+------------+-----------+------------+-----------+----------+--------------+\n",
      "|sepal.length|sepal.width|petal.length|petal.width|   variety|disposable_col|\n",
      "+------------+-----------+------------+-----------+----------+--------------+\n",
      "|        -3.0|        3.2|         1.3|        0.2|    Setosa|          oops|\n",
      "|         4.8|        3.2|        -3.0|        0.2|    Setosa|          null|\n",
      "|         5.3|       -3.0|         1.3|       -3.0|Versicolor|          oops|\n",
      "+------------+-----------+------------+-----------+----------+--------------+\n",
      "\n"
     ]
    }
   ],
   "source": [
    "df2.show(4)"
   ]
  },
  {
   "cell_type": "markdown",
   "metadata": {},
   "source": [
    "# Replace values in a column"
   ]
  },
  {
   "cell_type": "code",
   "execution_count": 48,
   "metadata": {},
   "outputs": [],
   "source": [
    "from pyspark.sql.functions import when, lit, col"
   ]
  },
  {
   "cell_type": "code",
   "execution_count": 90,
   "metadata": {},
   "outputs": [],
   "source": [
    "df2 = df2.withColumn(\n",
    "    \"disposable_col\",\n",
    "    when(\n",
    "        col(\"disposable_col\").isin('oops'),\n",
    "        \"error\"\n",
    "    ).otherwise(col(\"disposable_col\"))\n",
    ")"
   ]
  },
  {
   "cell_type": "code",
   "execution_count": 85,
   "metadata": {},
   "outputs": [
    {
     "name": "stdout",
     "output_type": "stream",
     "text": [
      "+------------+-----------+------------+-----------+----------+--------------+\n",
      "|sepal.length|sepal.width|petal.length|petal.width|   variety|disposable_col|\n",
      "+------------+-----------+------------+-----------+----------+--------------+\n",
      "|        null|        3.2|         1.3|        0.2|    Setosa|         error|\n",
      "|         4.8|        3.2|        null|        0.2|    Setosa|          null|\n",
      "|         5.3|       null|         1.3|       null|Versicolor|         error|\n",
      "+------------+-----------+------------+-----------+----------+--------------+\n",
      "\n"
     ]
    }
   ],
   "source": [
    "df2.show()"
   ]
  },
  {
   "cell_type": "markdown",
   "metadata": {},
   "source": [
    "# New column name"
   ]
  },
  {
   "cell_type": "code",
   "execution_count": 91,
   "metadata": {},
   "outputs": [],
   "source": [
    "df2 = df2.withColumnRenamed(\"disposable_col\",\"error_boolean\") #.printSchema()"
   ]
  },
  {
   "cell_type": "code",
   "execution_count": 92,
   "metadata": {},
   "outputs": [
    {
     "name": "stdout",
     "output_type": "stream",
     "text": [
      "+------------+-----------+------------+-----------+----------+-------------+\n",
      "|sepal.length|sepal.width|petal.length|petal.width|   variety|error_boolean|\n",
      "+------------+-----------+------------+-----------+----------+-------------+\n",
      "|        null|        3.2|         1.3|        0.2|    Setosa|        error|\n",
      "|         4.8|        3.2|        null|        0.2|    Setosa|         null|\n",
      "|         5.3|       null|         1.3|       null|Versicolor|        error|\n",
      "+------------+-----------+------------+-----------+----------+-------------+\n",
      "\n"
     ]
    }
   ],
   "source": [
    "df2.show()"
   ]
  },
  {
   "cell_type": "code",
   "execution_count": 93,
   "metadata": {},
   "outputs": [
    {
     "name": "stdout",
     "output_type": "stream",
     "text": [
      "root\n",
      " |-- sepal.length: double (nullable = true)\n",
      " |-- sepal.width: double (nullable = true)\n",
      " |-- petal.length: double (nullable = true)\n",
      " |-- petal.width: double (nullable = true)\n",
      " |-- variety: string (nullable = true)\n",
      " |-- error_boolean: string (nullable = true)\n",
      "\n"
     ]
    }
   ],
   "source": [
    "df2.printSchema()"
   ]
  },
  {
   "cell_type": "code",
   "execution_count": 100,
   "metadata": {},
   "outputs": [
    {
     "data": {
      "text/plain": [
       "DataFrame[sepal.length: double, sepal.width: double, petal.length: double, petal.width: double, variety: string, error_boolean: string]"
      ]
     },
     "execution_count": 100,
     "metadata": {},
     "output_type": "execute_result"
    }
   ],
   "source": [
    "df2"
   ]
  },
  {
   "cell_type": "code",
   "execution_count": 101,
   "metadata": {},
   "outputs": [
    {
     "name": "stdout",
     "output_type": "stream",
     "text": [
      "+------------+-----------+------------+-----------+----------+-------------+\n",
      "|sepal.length|sepal.width|petal.length|petal.width|   variety|error_boolean|\n",
      "+------------+-----------+------------+-----------+----------+-------------+\n",
      "|        null|        3.2|         1.3|        0.2|    Setosa|        error|\n",
      "|         4.8|        3.2|        null|        0.2|    Setosa|         null|\n",
      "|         5.3|       null|         1.3|       null|Versicolor|        error|\n",
      "+------------+-----------+------------+-----------+----------+-------------+\n",
      "\n"
     ]
    }
   ],
   "source": [
    "df2.show()"
   ]
  },
  {
   "cell_type": "code",
   "execution_count": 102,
   "metadata": {},
   "outputs": [],
   "source": [
    "df2 = df2.withColumnRenamed(\"sepal.length\",\"sepal_length\") \\\n",
    "    .withColumnRenamed(\"sepal.width\",\"sepal_width\") "
   ]
  },
  {
   "cell_type": "code",
   "execution_count": 103,
   "metadata": {},
   "outputs": [
    {
     "name": "stdout",
     "output_type": "stream",
     "text": [
      "+------------+-----------+------------+-----------+----------+-------------+\n",
      "|sepal_length|sepal_width|petal.length|petal.width|   variety|error_boolean|\n",
      "+------------+-----------+------------+-----------+----------+-------------+\n",
      "|        null|        3.2|         1.3|        0.2|    Setosa|        error|\n",
      "|         4.8|        3.2|        null|        0.2|    Setosa|         null|\n",
      "|         5.3|       null|         1.3|       null|Versicolor|        error|\n",
      "+------------+-----------+------------+-----------+----------+-------------+\n",
      "\n"
     ]
    }
   ],
   "source": [
    "df3.show()"
   ]
  },
  {
   "cell_type": "markdown",
   "metadata": {},
   "source": [
    "# Drop column"
   ]
  },
  {
   "cell_type": "code",
   "execution_count": 104,
   "metadata": {},
   "outputs": [],
   "source": [
    "drop_name = \"error_boolean\""
   ]
  },
  {
   "cell_type": "code",
   "execution_count": 108,
   "metadata": {},
   "outputs": [],
   "source": [
    "df4 = df3.drop(drop_name)"
   ]
  },
  {
   "cell_type": "code",
   "execution_count": 109,
   "metadata": {},
   "outputs": [
    {
     "name": "stdout",
     "output_type": "stream",
     "text": [
      "+------------+-----------+------------+-----------+----------+\n",
      "|sepal_length|sepal_width|petal.length|petal.width|   variety|\n",
      "+------------+-----------+------------+-----------+----------+\n",
      "|        null|        3.2|         1.3|        0.2|    Setosa|\n",
      "|         4.8|        3.2|        null|        0.2|    Setosa|\n",
      "|         5.3|       null|         1.3|       null|Versicolor|\n",
      "+------------+-----------+------------+-----------+----------+\n",
      "\n"
     ]
    }
   ],
   "source": [
    "df4.show()"
   ]
  },
  {
   "cell_type": "markdown",
   "metadata": {},
   "source": [
    "# Filter"
   ]
  },
  {
   "cell_type": "code",
   "execution_count": 115,
   "metadata": {},
   "outputs": [
    {
     "name": "stdout",
     "output_type": "stream",
     "text": [
      "+------------+-----------+------------+-----------+-------+\n",
      "|sepal_length|sepal_width|petal.length|petal.width|variety|\n",
      "+------------+-----------+------------+-----------+-------+\n",
      "|        null|        3.2|         1.3|        0.2| Setosa|\n",
      "|         4.8|        3.2|        null|        0.2| Setosa|\n",
      "+------------+-----------+------------+-----------+-------+\n",
      "\n"
     ]
    }
   ],
   "source": [
    "# single condition filtering\n",
    "df4[df4.sepal_width==3.2].show()"
   ]
  },
  {
   "cell_type": "code",
   "execution_count": 114,
   "metadata": {},
   "outputs": [
    {
     "name": "stdout",
     "output_type": "stream",
     "text": [
      "+------------+-----------+------------+-----------+-------+\n",
      "|sepal_length|sepal_width|petal.length|petal.width|variety|\n",
      "+------------+-----------+------------+-----------+-------+\n",
      "|         4.8|        3.2|        null|        0.2| Setosa|\n",
      "+------------+-----------+------------+-----------+-------+\n",
      "\n"
     ]
    }
   ],
   "source": [
    "# multiple condition filtering\n",
    "df4[(df4.sepal_width==3.2)&(df4.sepal_length>4.0)].show()"
   ]
  },
  {
   "cell_type": "markdown",
   "metadata": {},
   "source": [
    "# Join"
   ]
  },
  {
   "cell_type": "code",
   "execution_count": 120,
   "metadata": {},
   "outputs": [
    {
     "data": {
      "text/plain": [
       "[Row(petal.length=5.4, sepal.length=6.9, sepal.width=3.1, petal.width=2.1, variety='Virginica', sepal_length=None, sepal_width=None, petal.width=None, variety=None),\n",
       " Row(petal.length=5.4, sepal.length=6.2, sepal.width=3.4, petal.width=2.3, variety='Virginica', sepal_length=None, sepal_width=None, petal.width=None, variety=None),\n",
       " Row(petal.length=3.5, sepal.length=5.0, sepal.width=2.0, petal.width=1.0, variety='Versicolor', sepal_length=None, sepal_width=None, petal.width=None, variety=None),\n",
       " Row(petal.length=3.5, sepal.length=5.7, sepal.width=2.6, petal.width=1.0, variety='Versicolor', sepal_length=None, sepal_width=None, petal.width=None, variety=None)]"
      ]
     },
     "execution_count": 120,
     "metadata": {},
     "output_type": "execute_result"
    }
   ],
   "source": [
    "df.join(df4, on=\"petal.length\", how=\"left\").head(4)"
   ]
  },
  {
   "cell_type": "code",
   "execution_count": 121,
   "metadata": {},
   "outputs": [
    {
     "data": {
      "text/plain": [
       "[Row(petal.length=1.3, sepal.length=4.4, sepal.width=3.2, petal.width=0.2, variety='Setosa', sepal_length=None, sepal_width=3.2, petal.width=0.2, variety='Setosa'),\n",
       " Row(petal.length=1.3, sepal.length=4.5, sepal.width=2.3, petal.width=0.3, variety='Setosa', sepal_length=None, sepal_width=3.2, petal.width=0.2, variety='Setosa'),\n",
       " Row(petal.length=1.3, sepal.length=5.0, sepal.width=3.5, petal.width=0.3, variety='Setosa', sepal_length=None, sepal_width=3.2, petal.width=0.2, variety='Setosa'),\n",
       " Row(petal.length=1.3, sepal.length=4.4, sepal.width=3.0, petal.width=0.2, variety='Setosa', sepal_length=None, sepal_width=3.2, petal.width=0.2, variety='Setosa')]"
      ]
     },
     "execution_count": 121,
     "metadata": {},
     "output_type": "execute_result"
    }
   ],
   "source": [
    "df.join(df4, on=\"petal.length\", how=\"inner\").head(4)"
   ]
  }
 ],
 "metadata": {
  "kernelspec": {
   "display_name": "Python 3",
   "language": "python",
   "name": "python3"
  },
  "language_info": {
   "codemirror_mode": {
    "name": "ipython",
    "version": 3
   },
   "file_extension": ".py",
   "mimetype": "text/x-python",
   "name": "python",
   "nbconvert_exporter": "python",
   "pygments_lexer": "ipython3",
   "version": "3.8.5"
  }
 },
 "nbformat": 4,
 "nbformat_minor": 4
}
