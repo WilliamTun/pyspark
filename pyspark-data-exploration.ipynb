{
 "cells": [
  {
   "cell_type": "code",
   "execution_count": 30,
   "metadata": {},
   "outputs": [
    {
     "name": "stdout",
     "output_type": "stream",
     "text": [
      "+------------+-----------+------------+-----------+-------+\n",
      "|sepal.length|sepal.width|petal.length|petal.width|variety|\n",
      "+------------+-----------+------------+-----------+-------+\n",
      "|         5.1|        3.5|         1.4|        0.2| Setosa|\n",
      "|         4.9|        3.0|         1.4|        0.2| Setosa|\n",
      "|         4.7|        3.2|         1.3|        0.2| Setosa|\n",
      "|         4.6|        3.1|         1.5|        0.2| Setosa|\n",
      "|         5.0|        3.6|         1.4|        0.2| Setosa|\n",
      "+------------+-----------+------------+-----------+-------+\n",
      "only showing top 5 rows\n",
      "\n"
     ]
    }
   ],
   "source": [
    "from pyspark.sql import SparkSession\n",
    "\n",
    "filepath = '/Users/williamtun/Documents/Code/DataEngineer/pyspark/iris.csv'\n",
    "\n",
    "spark = SparkSession \\\n",
    "    .builder \\\n",
    "    .appName(\"Python Spark create RDD example\") \\\n",
    "    .config(\"spark.some.config.option\", \"some-value\") \\\n",
    "    .getOrCreate()\n",
    "\n",
    "df = spark.read.format('com.databricks.spark.csv').\\\n",
    "                               options(header='true', \\\n",
    "                               inferschema='true').\\\n",
    "                load(filepath,header=True)\n",
    "\n",
    "df.show(5)"
   ]
  },
  {
   "cell_type": "code",
   "execution_count": 31,
   "metadata": {},
   "outputs": [],
   "source": [
    "from pyspark.sql import functions as F\n",
    "from pyspark.sql.functions import rank,sum,col\n",
    "from pyspark.sql import Window\n",
    "\n",
    "window = Window.rowsBetween(Window.unboundedPreceding,Window.unboundedFollowing)"
   ]
  },
  {
   "cell_type": "code",
   "execution_count": 32,
   "metadata": {},
   "outputs": [],
   "source": [
    "df2 = df.withColumnRenamed(\"sepal.length\",\"sepal_length\") \\\n",
    "    .withColumnRenamed(\"sepal.width\",\"sepal_width\") \\\n",
    "    .withColumnRenamed(\"petal.length\",\"petal_length\") \\\n",
    "    .withColumnRenamed(\"petal.width\",\"petal_width\") "
   ]
  },
  {
   "cell_type": "markdown",
   "metadata": {},
   "source": [
    "# summary stats"
   ]
  },
  {
   "cell_type": "code",
   "execution_count": null,
   "metadata": {},
   "outputs": [],
   "source": [
    "# sum up total of entire column of sepal_num\n",
    "# ^ needed to calculate percentage"
   ]
  },
  {
   "cell_type": "code",
   "execution_count": 45,
   "metadata": {},
   "outputs": [],
   "source": [
    "tab = df2.select(['variety', 'sepal_length']).\\\n",
    "   groupBy('variety').\\\n",
    "   agg(F.count('sepal_length').alias('sepal_num'), \n",
    "       F.mean('sepal_length').alias('sepal_avg'),\n",
    "       F.min('sepal_length').alias('sepal_min'),\n",
    "       F.max('sepal_length').alias('sepal_max')).\\\n",
    "       withColumn('total',sum(col('sepal_num')).over(window)).\\\n",
    "       withColumn('Percent',col('sepal_num')*100/col('total')).\\\n",
    "       drop(col('total'))\n"
   ]
  },
  {
   "cell_type": "code",
   "execution_count": 46,
   "metadata": {},
   "outputs": [
    {
     "name": "stdout",
     "output_type": "stream",
     "text": [
      "+----------+---------+-----------------+---------+---------+------------------+\n",
      "|   variety|sepal_num|        sepal_avg|sepal_min|sepal_max|           Percent|\n",
      "+----------+---------+-----------------+---------+---------+------------------+\n",
      "| Virginica|       50|6.587999999999998|      4.9|      7.9|33.333333333333336|\n",
      "|    Setosa|       50|5.005999999999999|      4.3|      5.8|33.333333333333336|\n",
      "|Versicolor|       50|            5.936|      4.9|      7.0|33.333333333333336|\n",
      "+----------+---------+-----------------+---------+---------+------------------+\n",
      "\n"
     ]
    }
   ],
   "source": [
    "tab.show()"
   ]
  },
  {
   "cell_type": "markdown",
   "metadata": {},
   "source": [
    "# Correlation matrix"
   ]
  },
  {
   "cell_type": "code",
   "execution_count": 48,
   "metadata": {},
   "outputs": [],
   "source": [
    "from pyspark.mllib.stat import Statistics\n",
    "import pandas as pd"
   ]
  },
  {
   "cell_type": "code",
   "execution_count": 47,
   "metadata": {},
   "outputs": [],
   "source": [
    "corr_data = df2.select(['sepal_length', 'sepal_width', 'petal_length'])"
   ]
  },
  {
   "cell_type": "code",
   "execution_count": 50,
   "metadata": {},
   "outputs": [
    {
     "data": {
      "text/plain": [
       "['sepal_length', 'sepal_width', 'petal_length']"
      ]
     },
     "execution_count": 50,
     "metadata": {},
     "output_type": "execute_result"
    }
   ],
   "source": [
    "col_names = corr_data.columns\n",
    "col_names"
   ]
  },
  {
   "cell_type": "code",
   "execution_count": 51,
   "metadata": {},
   "outputs": [],
   "source": [
    "features = corr_data.rdd.map(lambda row: row[0:])"
   ]
  },
  {
   "cell_type": "code",
   "execution_count": 59,
   "metadata": {},
   "outputs": [
    {
     "data": {
      "text/plain": [
       "[(5.1, 3.5, 1.4), (4.9, 3.0, 1.4), (4.7, 3.2, 1.3)]"
      ]
     },
     "execution_count": 59,
     "metadata": {},
     "output_type": "execute_result"
    }
   ],
   "source": [
    "features.collect()[:3] # show first 3 rows of dataset"
   ]
  },
  {
   "cell_type": "code",
   "execution_count": 60,
   "metadata": {},
   "outputs": [],
   "source": [
    "# correlation matrix\n",
    "corr_mat=Statistics.corr(features, method=\"pearson\")"
   ]
  },
  {
   "cell_type": "code",
   "execution_count": 61,
   "metadata": {},
   "outputs": [
    {
     "name": "stdout",
     "output_type": "stream",
     "text": [
      "              sepal_length  sepal_width  petal_length\n",
      "sepal_length      1.000000     -0.11757      0.871754\n",
      "sepal_width      -0.117570      1.00000     -0.428440\n",
      "petal_length      0.871754     -0.42844      1.000000\n"
     ]
    }
   ],
   "source": [
    "# display in pandas\n",
    "corr_df = pd.DataFrame(corr_mat)\n",
    "corr_df.index, corr_df.columns = col_names, col_names\n",
    "print(corr_df.to_string())"
   ]
  },
  {
   "cell_type": "markdown",
   "metadata": {},
   "source": [
    "# cross table - count values in each category"
   ]
  },
  {
   "cell_type": "code",
   "execution_count": 64,
   "metadata": {},
   "outputs": [
    {
     "name": "stdout",
     "output_type": "stream",
     "text": [
      "+--------------------+------+----------+---------+\n",
      "|sepal_length_variety|Setosa|Versicolor|Virginica|\n",
      "+--------------------+------+----------+---------+\n",
      "|                 5.0|     8|         2|        0|\n",
      "|                 4.7|     2|         0|        0|\n",
      "|                 7.6|     0|         0|        1|\n",
      "|                 7.4|     0|         0|        1|\n",
      "|                 6.1|     0|         4|        2|\n",
      "|                 7.9|     0|         0|        1|\n",
      "|                 4.3|     1|         0|        0|\n",
      "|                 7.2|     0|         0|        3|\n",
      "|                 6.0|     0|         4|        2|\n",
      "|                 4.4|     3|         0|        0|\n",
      "|                 4.6|     4|         0|        0|\n",
      "|                 6.4|     0|         2|        5|\n",
      "|                 6.8|     0|         1|        2|\n",
      "|                 5.7|     2|         5|        1|\n",
      "|                 5.1|     8|         1|        0|\n",
      "|                 6.9|     0|         1|        3|\n",
      "|                 5.3|     1|         0|        0|\n",
      "|                 6.2|     0|         2|        2|\n",
      "|                 5.8|     1|         3|        3|\n",
      "|                 5.4|     5|         1|        0|\n",
      "+--------------------+------+----------+---------+\n",
      "only showing top 20 rows\n",
      "\n"
     ]
    }
   ],
   "source": [
    "df2.stat.crosstab(\"sepal_length\", \"variety\").show()"
   ]
  }
 ],
 "metadata": {
  "kernelspec": {
   "display_name": "Python 3",
   "language": "python",
   "name": "python3"
  },
  "language_info": {
   "codemirror_mode": {
    "name": "ipython",
    "version": 3
   },
   "file_extension": ".py",
   "mimetype": "text/x-python",
   "name": "python",
   "nbconvert_exporter": "python",
   "pygments_lexer": "ipython3",
   "version": "3.8.5"
  }
 },
 "nbformat": 4,
 "nbformat_minor": 4
}
