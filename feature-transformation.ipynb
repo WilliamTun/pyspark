{
 "cells": [
  {
   "cell_type": "code",
   "execution_count": 1,
   "metadata": {},
   "outputs": [
    {
     "name": "stdout",
     "output_type": "stream",
     "text": [
      "+------------+-----------+------------+-----------+-------+\n",
      "|sepal.length|sepal.width|petal.length|petal.width|variety|\n",
      "+------------+-----------+------------+-----------+-------+\n",
      "|         5.1|        3.5|         1.4|        0.2| Setosa|\n",
      "|         4.9|        3.0|         1.4|        0.2| Setosa|\n",
      "|         4.7|        3.2|         1.3|        0.2| Setosa|\n",
      "|         4.6|        3.1|         1.5|        0.2| Setosa|\n",
      "|         5.0|        3.6|         1.4|        0.2| Setosa|\n",
      "+------------+-----------+------------+-----------+-------+\n",
      "only showing top 5 rows\n",
      "\n"
     ]
    }
   ],
   "source": [
    "from pyspark.sql import SparkSession\n",
    "\n",
    "filepath = '/Users/williamtun/Documents/Code/DataEngineer/pyspark/iris.csv'\n",
    "\n",
    "spark = SparkSession \\\n",
    "    .builder \\\n",
    "    .appName(\"Python Spark create RDD example\") \\\n",
    "    .config(\"spark.some.config.option\", \"some-value\") \\\n",
    "    .getOrCreate()\n",
    "\n",
    "df = spark.read.format('com.databricks.spark.csv').\\\n",
    "                               options(header='true', \\\n",
    "                               inferschema='true').\\\n",
    "                load(filepath,header=True)\n",
    "\n",
    "df.show(5)"
   ]
  },
  {
   "cell_type": "code",
   "execution_count": 5,
   "metadata": {},
   "outputs": [],
   "source": [
    "df = df.withColumnRenamed(\"sepal.length\",\"sepal_length\") \\\n",
    "    .withColumnRenamed(\"sepal.width\",\"sepal_width\") \\\n",
    "    .withColumnRenamed(\"petal.length\",\"petal_length\") \\\n",
    "    .withColumnRenamed(\"petal.width\",\"petal_width\") "
   ]
  },
  {
   "cell_type": "markdown",
   "metadata": {},
   "source": [
    "# Binary Binizer"
   ]
  },
  {
   "cell_type": "code",
   "execution_count": 10,
   "metadata": {},
   "outputs": [],
   "source": [
    "from pyspark.ml.feature import Binarizer"
   ]
  },
  {
   "cell_type": "code",
   "execution_count": 15,
   "metadata": {},
   "outputs": [],
   "source": [
    "binarizer = Binarizer(threshold=4.8, inputCol=\"sepal_length\", outputCol=\"binarized_feature\")"
   ]
  },
  {
   "cell_type": "code",
   "execution_count": 16,
   "metadata": {},
   "outputs": [],
   "source": [
    "binarizedDataFrame = binarizer.transform(df)"
   ]
  },
  {
   "cell_type": "code",
   "execution_count": 17,
   "metadata": {},
   "outputs": [
    {
     "name": "stdout",
     "output_type": "stream",
     "text": [
      "Binarizer output with Threshold = 4.800000\n"
     ]
    }
   ],
   "source": [
    "print(\"Binarizer output with Threshold = %f\" % binarizer.getThreshold())"
   ]
  },
  {
   "cell_type": "code",
   "execution_count": 18,
   "metadata": {},
   "outputs": [
    {
     "name": "stdout",
     "output_type": "stream",
     "text": [
      "+------------+-----------+------------+-----------+-------+-----------------+\n",
      "|sepal_length|sepal_width|petal_length|petal_width|variety|binarized_feature|\n",
      "+------------+-----------+------------+-----------+-------+-----------------+\n",
      "|         5.1|        3.5|         1.4|        0.2| Setosa|              1.0|\n",
      "|         4.9|        3.0|         1.4|        0.2| Setosa|              1.0|\n",
      "|         4.7|        3.2|         1.3|        0.2| Setosa|              0.0|\n",
      "|         4.6|        3.1|         1.5|        0.2| Setosa|              0.0|\n",
      "|         5.0|        3.6|         1.4|        0.2| Setosa|              1.0|\n",
      "|         5.4|        3.9|         1.7|        0.4| Setosa|              1.0|\n",
      "|         4.6|        3.4|         1.4|        0.3| Setosa|              0.0|\n",
      "|         5.0|        3.4|         1.5|        0.2| Setosa|              1.0|\n",
      "|         4.4|        2.9|         1.4|        0.2| Setosa|              0.0|\n",
      "|         4.9|        3.1|         1.5|        0.1| Setosa|              1.0|\n",
      "|         5.4|        3.7|         1.5|        0.2| Setosa|              1.0|\n",
      "|         4.8|        3.4|         1.6|        0.2| Setosa|              0.0|\n",
      "|         4.8|        3.0|         1.4|        0.1| Setosa|              0.0|\n",
      "|         4.3|        3.0|         1.1|        0.1| Setosa|              0.0|\n",
      "|         5.8|        4.0|         1.2|        0.2| Setosa|              1.0|\n",
      "|         5.7|        4.4|         1.5|        0.4| Setosa|              1.0|\n",
      "|         5.4|        3.9|         1.3|        0.4| Setosa|              1.0|\n",
      "|         5.1|        3.5|         1.4|        0.3| Setosa|              1.0|\n",
      "|         5.7|        3.8|         1.7|        0.3| Setosa|              1.0|\n",
      "|         5.1|        3.8|         1.5|        0.3| Setosa|              1.0|\n",
      "+------------+-----------+------------+-----------+-------+-----------------+\n",
      "only showing top 20 rows\n",
      "\n"
     ]
    }
   ],
   "source": [
    "binarizedDataFrame.show()"
   ]
  },
  {
   "cell_type": "markdown",
   "metadata": {},
   "source": [
    "# Buckets - Auto QuantileDiscretizer"
   ]
  },
  {
   "cell_type": "code",
   "execution_count": 2,
   "metadata": {},
   "outputs": [],
   "source": [
    "from pyspark.ml.feature import QuantileDiscretizer"
   ]
  },
  {
   "cell_type": "code",
   "execution_count": 6,
   "metadata": {},
   "outputs": [],
   "source": [
    "qds = QuantileDiscretizer(numBuckets=5, inputCol=\"sepal_length\", outputCol=\"buckets\",\n",
    "                               relativeError=0.01, handleInvalid=\"error\")"
   ]
  },
  {
   "cell_type": "code",
   "execution_count": 7,
   "metadata": {},
   "outputs": [],
   "source": [
    "bucketizer = qds.fit(df)"
   ]
  },
  {
   "cell_type": "code",
   "execution_count": 8,
   "metadata": {},
   "outputs": [
    {
     "name": "stdout",
     "output_type": "stream",
     "text": [
      "+------------+-----------+------------+-----------+-------+-------+\n",
      "|sepal_length|sepal_width|petal_length|petal_width|variety|buckets|\n",
      "+------------+-----------+------------+-----------+-------+-------+\n",
      "|         5.1|        3.5|         1.4|        0.2| Setosa|    1.0|\n",
      "|         4.9|        3.0|         1.4|        0.2| Setosa|    0.0|\n",
      "|         4.7|        3.2|         1.3|        0.2| Setosa|    0.0|\n",
      "|         4.6|        3.1|         1.5|        0.2| Setosa|    0.0|\n",
      "|         5.0|        3.6|         1.4|        0.2| Setosa|    1.0|\n",
      "|         5.4|        3.9|         1.7|        0.4| Setosa|    1.0|\n",
      "|         4.6|        3.4|         1.4|        0.3| Setosa|    0.0|\n",
      "|         5.0|        3.4|         1.5|        0.2| Setosa|    1.0|\n",
      "|         4.4|        2.9|         1.4|        0.2| Setosa|    0.0|\n",
      "|         4.9|        3.1|         1.5|        0.1| Setosa|    0.0|\n",
      "|         5.4|        3.7|         1.5|        0.2| Setosa|    1.0|\n",
      "|         4.8|        3.4|         1.6|        0.2| Setosa|    0.0|\n",
      "|         4.8|        3.0|         1.4|        0.1| Setosa|    0.0|\n",
      "|         4.3|        3.0|         1.1|        0.1| Setosa|    0.0|\n",
      "|         5.8|        4.0|         1.2|        0.2| Setosa|    2.0|\n",
      "|         5.7|        4.4|         1.5|        0.4| Setosa|    2.0|\n",
      "|         5.4|        3.9|         1.3|        0.4| Setosa|    1.0|\n",
      "|         5.1|        3.5|         1.4|        0.3| Setosa|    1.0|\n",
      "|         5.7|        3.8|         1.7|        0.3| Setosa|    2.0|\n",
      "|         5.1|        3.8|         1.5|        0.3| Setosa|    1.0|\n",
      "+------------+-----------+------------+-----------+-------+-------+\n",
      "only showing top 20 rows\n",
      "\n"
     ]
    }
   ],
   "source": [
    "bucketizer.transform(df).show()"
   ]
  },
  {
   "cell_type": "markdown",
   "metadata": {},
   "source": [
    "# Buckets - set thresholds manually"
   ]
  },
  {
   "cell_type": "code",
   "execution_count": 20,
   "metadata": {},
   "outputs": [],
   "source": [
    "from pyspark.ml.feature import Bucketizer"
   ]
  },
  {
   "cell_type": "code",
   "execution_count": 21,
   "metadata": {},
   "outputs": [],
   "source": [
    "splits = [-float(\"inf\"),4.5, 4.8, 5.1, float(\"inf\")]"
   ]
  },
  {
   "cell_type": "code",
   "execution_count": 22,
   "metadata": {},
   "outputs": [],
   "source": [
    "split_bucketizer = Bucketizer(splits=splits, inputCol=\"sepal_length\",outputCol=\"result\").transform(df)"
   ]
  },
  {
   "cell_type": "code",
   "execution_count": 23,
   "metadata": {},
   "outputs": [
    {
     "name": "stdout",
     "output_type": "stream",
     "text": [
      "+------------+-----------+------------+-----------+-------+------+\n",
      "|sepal_length|sepal_width|petal_length|petal_width|variety|result|\n",
      "+------------+-----------+------------+-----------+-------+------+\n",
      "|         5.1|        3.5|         1.4|        0.2| Setosa|   3.0|\n",
      "|         4.9|        3.0|         1.4|        0.2| Setosa|   2.0|\n",
      "|         4.7|        3.2|         1.3|        0.2| Setosa|   1.0|\n",
      "|         4.6|        3.1|         1.5|        0.2| Setosa|   1.0|\n",
      "|         5.0|        3.6|         1.4|        0.2| Setosa|   2.0|\n",
      "|         5.4|        3.9|         1.7|        0.4| Setosa|   3.0|\n",
      "|         4.6|        3.4|         1.4|        0.3| Setosa|   1.0|\n",
      "|         5.0|        3.4|         1.5|        0.2| Setosa|   2.0|\n",
      "|         4.4|        2.9|         1.4|        0.2| Setosa|   0.0|\n",
      "|         4.9|        3.1|         1.5|        0.1| Setosa|   2.0|\n",
      "|         5.4|        3.7|         1.5|        0.2| Setosa|   3.0|\n",
      "|         4.8|        3.4|         1.6|        0.2| Setosa|   2.0|\n",
      "|         4.8|        3.0|         1.4|        0.1| Setosa|   2.0|\n",
      "|         4.3|        3.0|         1.1|        0.1| Setosa|   0.0|\n",
      "|         5.8|        4.0|         1.2|        0.2| Setosa|   3.0|\n",
      "|         5.7|        4.4|         1.5|        0.4| Setosa|   3.0|\n",
      "|         5.4|        3.9|         1.3|        0.4| Setosa|   3.0|\n",
      "|         5.1|        3.5|         1.4|        0.3| Setosa|   3.0|\n",
      "|         5.7|        3.8|         1.7|        0.3| Setosa|   3.0|\n",
      "|         5.1|        3.8|         1.5|        0.3| Setosa|   3.0|\n",
      "+------------+-----------+------------+-----------+-------+------+\n",
      "only showing top 20 rows\n",
      "\n"
     ]
    }
   ],
   "source": [
    "split_bucketizer.show()"
   ]
  },
  {
   "cell_type": "markdown",
   "metadata": {},
   "source": [
    "# String indexer"
   ]
  },
  {
   "cell_type": "code",
   "execution_count": 27,
   "metadata": {},
   "outputs": [],
   "source": [
    "from pyspark.ml.feature import StringIndexer\n",
    "from pyspark.sql import functions as F"
   ]
  },
  {
   "cell_type": "code",
   "execution_count": 32,
   "metadata": {},
   "outputs": [],
   "source": [
    "indexer = StringIndexer(inputCol=\"variety\", outputCol=\"varietyIndex\")\n",
    "indexed = indexer.fit(df).transform(df)"
   ]
  },
  {
   "cell_type": "code",
   "execution_count": 38,
   "metadata": {},
   "outputs": [
    {
     "name": "stdout",
     "output_type": "stream",
     "text": [
      "+----------+-------------+\n",
      "|   variety|variety_count|\n",
      "+----------+-------------+\n",
      "| Virginica|           50|\n",
      "|    Setosa|           50|\n",
      "|Versicolor|           50|\n",
      "+----------+-------------+\n",
      "\n"
     ]
    }
   ],
   "source": [
    "indexed.groupBy('variety').agg(F.count('variety').alias('variety_count')).show()"
   ]
  },
  {
   "cell_type": "code",
   "execution_count": 39,
   "metadata": {},
   "outputs": [
    {
     "name": "stdout",
     "output_type": "stream",
     "text": [
      "+------------+------------------+\n",
      "|varietyIndex|varietyIndex_count|\n",
      "+------------+------------------+\n",
      "|         0.0|                50|\n",
      "|         1.0|                50|\n",
      "|         2.0|                50|\n",
      "+------------+------------------+\n",
      "\n"
     ]
    }
   ],
   "source": [
    "indexed.groupBy('varietyIndex').agg(F.count('varietyIndex').alias('varietyIndex_count')).show()"
   ]
  },
  {
   "cell_type": "code",
   "execution_count": null,
   "metadata": {},
   "outputs": [],
   "source": []
  },
  {
   "cell_type": "code",
   "execution_count": null,
   "metadata": {},
   "outputs": [],
   "source": []
  },
  {
   "cell_type": "code",
   "execution_count": null,
   "metadata": {},
   "outputs": [],
   "source": []
  }
 ],
 "metadata": {
  "kernelspec": {
   "display_name": "Python 3",
   "language": "python",
   "name": "python3"
  },
  "language_info": {
   "codemirror_mode": {
    "name": "ipython",
    "version": 3
   },
   "file_extension": ".py",
   "mimetype": "text/x-python",
   "name": "python",
   "nbconvert_exporter": "python",
   "pygments_lexer": "ipython3",
   "version": "3.8.5"
  }
 },
 "nbformat": 4,
 "nbformat_minor": 4
}
